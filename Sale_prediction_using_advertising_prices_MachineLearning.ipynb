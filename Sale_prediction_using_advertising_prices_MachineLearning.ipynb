{
  "nbformat": 4,
  "nbformat_minor": 0,
  "metadata": {
    "colab": {
      "name": "Sale_prediction_using_advertising_prices_MachineLearning.ipynb",
      "provenance": [],
      "collapsed_sections": [],
      "authorship_tag": "ABX9TyMaK0WIq5n79jrR+2p2Vryv",
      "include_colab_link": true
    },
    "kernelspec": {
      "name": "python3",
      "display_name": "Python 3"
    },
    "language_info": {
      "name": "python"
    }
  },
  "cells": [
    {
      "cell_type": "markdown",
      "metadata": {
        "id": "view-in-github",
        "colab_type": "text"
      },
      "source": [
        "<a href=\"https://colab.research.google.com/github/amrit1203/sales_prediction/blob/main/Sale_prediction_using_advertising_prices_MachineLearning.ipynb\" target=\"_parent\"><img src=\"https://colab.research.google.com/assets/colab-badge.svg\" alt=\"Open In Colab\"/></a>"
      ]
    },
    {
      "cell_type": "markdown",
      "metadata": {
        "id": "aGmjQRzvcQGX"
      },
      "source": [
        "Linear Regression model to predict sales using advertising rates\n",
        "\n",
        "MySQL is connected using pymysql library.\n",
        "Data is imported from advertising table.\n"
      ]
    },
    {
      "cell_type": "code",
      "metadata": {
        "colab": {
          "base_uri": "https://localhost:8080/"
        },
        "id": "zruMuoo5RugV",
        "outputId": "ec34ecf1-47cf-46ab-e5d3-0921f1d81b65"
      },
      "source": [
        "import pandas as pd\n",
        "import numpy as np\n",
        "from matplotlib import pyplot as plt\n",
        "from sklearn.linear_model import LinearRegression\n",
        "\n",
        "''' Extracting data from MySQL free database'''\n",
        "# Install and Import MySQL Database Dependencies\n",
        "!pip install pymysql\n",
        "import pymysql\n",
        "import sqlalchemy\n",
        "\n",
        "# Initialize Connection Hyperparameters\n",
        "HOSTNAME = 'sql5.freesqldatabase.com'\n",
        "USER = 'sql5425557'\n",
        "PASSWORD = 'PkBPfl3yTc'\n",
        "DATABASE = 'sql5425557'\n",
        "TABLE = 'advertising'\n",
        "\n",
        "# Instantiate a MySQL Connection String\n",
        "# conn_string = f'mysql+pymysql://<USER>:<PASSWORD>@<HOSTNAME>/<DATABASE>'\n",
        "conn_string = f'mysql+pymysql://'+USER+':'+PASSWORD+'@'+HOSTNAME+'/'+DATABASE\n",
        "engine = sqlalchemy.create_engine(conn_string)\n",
        "\n",
        "# Run a MySQL Query\n",
        "#query = f'SELECT * FROM <DATABASE>.<TABLE>'\n",
        "query = f'SELECT * FROM '+DATABASE+'.'+TABLE\n",
        " \n",
        "# Read MySQL Query Result/Data\n",
        "import pandas as pd\n",
        "adv = pd.read_sql_query(query, engine)\n"
      ],
      "execution_count": 11,
      "outputs": [
        {
          "output_type": "stream",
          "text": [
            "Requirement already satisfied: pymysql in /usr/local/lib/python3.7/dist-packages (1.0.2)\n"
          ],
          "name": "stdout"
        }
      ]
    },
    {
      "cell_type": "markdown",
      "metadata": {
        "id": "ckynleaUcvgI"
      },
      "source": [
        "Showing some fields of table"
      ]
    },
    {
      "cell_type": "code",
      "metadata": {
        "colab": {
          "base_uri": "https://localhost:8080/"
        },
        "id": "Qr2xNWrNGfXY",
        "outputId": "24697ba9-af07-4675-f13a-eff056057d8f"
      },
      "source": [
        "#@title count { run: \"auto\" }\n",
        "count = 15 #@param {type:\"slider\", min:0, max:50, step:1}\n",
        "# Import and display first five rows of advertising dataset\n",
        "#advert = pd.read_csv('sample_data/advertising.csv')\n",
        "print(adv.head(count))"
      ],
      "execution_count": 12,
      "outputs": [
        {
          "output_type": "stream",
          "text": [
            "       TV  Radio  Newspaper   Sales\n",
            "0   230.1   37.8       37.8    22.1\n",
            "1    44.5   39.3       39.3    10.4\n",
            "2    17.2   45.9       45.9     9.3\n",
            "3   151.5   41.3       41.3    18.5\n",
            "4   180.8   10.8       10.8    12.9\n",
            "5   100.0   76.0       56.0  7565.0\n",
            "6   200.0  767.0       56.0     6.0\n",
            "7    34.0   67.0       56.0    67.0\n",
            "8    67.0   67.0       65.0    67.0\n",
            "9    93.0   67.0       65.0    67.0\n",
            "10    4.0    6.0       56.0    67.0\n",
            "11  959.0   67.0      656.0   677.0\n",
            "12  934.0   67.0       56.0    67.0\n",
            "13   33.0    7.0       56.0    76.0\n",
            "14   44.0   67.0        6.0   776.0\n"
          ],
          "name": "stdout"
        }
      ]
    },
    {
      "cell_type": "code",
      "metadata": {
        "colab": {
          "base_uri": "https://localhost:8080/",
          "height": 112
        },
        "id": "LfVVtJe0ZaUv",
        "outputId": "7251f68b-def9-47b1-ed22-d60357c4628d"
      },
      "source": [
        "#@title Layout { run: \"auto\" }\n",
        "a =  3#@param {type:\"raw\"}\n",
        "b =  6#@param {type:\"integer\"}\n",
        "import matplotlib.pyplot as pl\n",
        "from matplotlib import pyplot\n",
        "adv.plot(kind='box', subplots=True, layout=(a,b), sharex=False, sharey=False)\n",
        "pyplot.show()"
      ],
      "execution_count": 13,
      "outputs": [
        {
          "output_type": "display_data",
          "data": {
            "image/png": "[encoded data removed]",
            "text/plain": [
              "<Figure size 432x288 with 18 Axes>"
            ]
          },
          "metadata": {
            "tags": [],
            "needs_background": "light"
          }
        }
      ]
    },
    {
      "cell_type": "markdown",
      "metadata": {
        "id": "JkJq1Rxpc45X"
      },
      "source": [
        "Histogram"
      ]
    },
    {
      "cell_type": "code",
      "metadata": {
        "colab": {
          "base_uri": "https://localhost:8080/",
          "height": 281
        },
        "id": "eX4kIbaFZ48t",
        "outputId": "8e8a0821-ed72-437c-f69b-65cd48bfd939"
      },
      "source": [
        "adv.hist()\n",
        "pyplot.show()"
      ],
      "execution_count": 14,
      "outputs": [
        {
          "output_type": "display_data",
          "data": {
            "image/png": "[encoded data removed]",
            "text/plain": [
              "<Figure size 432x288 with 4 Axes>"
            ]
          },
          "metadata": {
            "tags": [],
            "needs_background": "light"
          }
        }
      ]
    },
    {
      "cell_type": "markdown",
      "metadata": {
        "id": "ZsLU4XU4c7w2"
      },
      "source": [
        "Scatter Matrix"
      ]
    },
    {
      "cell_type": "code",
      "metadata": {
        "colab": {
          "base_uri": "https://localhost:8080/",
          "height": 290
        },
        "id": "QifAtL82Z_lX",
        "outputId": "f880696f-f194-4b31-8114-bd52915656b8"
      },
      "source": [
        "from pandas.plotting import scatter_matrix\n",
        "scatter_matrix(adv)\n",
        "pyplot.show()"
      ],
      "execution_count": 15,
      "outputs": [
        {
          "output_type": "display_data",
          "data": {
            "image/png": "[encoded data removed]",
            "text/plain": [
              "<Figure size 432x288 with 16 Axes>"
            ]
          },
          "metadata": {
            "tags": [],
            "needs_background": "light"
          }
        }
      ]
    },
    {
      "cell_type": "markdown",
      "metadata": {
        "id": "7MVlfdDSdE7o"
      },
      "source": [
        "Initialising our simple regression model using stats model\n",
        "\n",
        "Sales predicition done using Radio advertising"
      ]
    },
    {
      "cell_type": "code",
      "metadata": {
        "id": "rsCKROLWJSCt"
      },
      "source": [
        "import statsmodels.formula.api as smf\n",
        "\n",
        "# Initialise and fit linear regression model using `statsmodels`\n",
        "model = smf.ols('Sales ~ Radio', data=adv)\n",
        "model = model.fit()\n",
        "sales_pred = model.predict()"
      ],
      "execution_count": 16,
      "outputs": []
    },
    {
      "cell_type": "markdown",
      "metadata": {
        "id": "r2bA6dQJdgWk"
      },
      "source": [
        "Visualizing \n",
        "\n",
        "Radio advertising vs Sales"
      ]
    },
    {
      "cell_type": "code",
      "metadata": {
        "colab": {
          "base_uri": "https://localhost:8080/",
          "height": 404
        },
        "id": "02uby0OMRd-Z",
        "outputId": "af04b5ab-01f4-41af-e426-24dc5d77b75b"
      },
      "source": [
        "#@title Figure size { run: \"auto\" }\n",
        "a =  10#@param {type:\"integer\"}\n",
        "b =  6#@param {type:\"integer\"}\n",
        "# Predict values\n",
        "\n",
        "\n",
        "# Plot regression against actual data\n",
        "plt.figure(figsize=(a, b))\n",
        "plt.plot(adv['Radio'], adv['Sales'], 'o')           # scatter plot showing actual data\n",
        "plt.plot(adv['Radio'], sales_pred, 'r', linewidth=2)   # regression line\n",
        "plt.xlabel('Radio Advertising Price')\n",
        "plt.ylabel('Sales')\n",
        "plt.title('Radio vs Sales')\n",
        "\n",
        "plt.show()"
      ],
      "execution_count": 17,
      "outputs": [
        {
          "output_type": "display_data",
          "data": {
            "image/png": "[encoded data removed]",
            "text/plain": [
              "<Figure size 720x432 with 1 Axes>"
            ]
          },
          "metadata": {
            "tags": [],
            "needs_background": "light"
          }
        }
      ]
    },
    {
      "cell_type": "markdown",
      "metadata": {
        "id": "wP8nBJwld-Eg"
      },
      "source": [
        "Amount spent on TV advertise can help us predict the sales."
      ]
    },
    {
      "cell_type": "code",
      "metadata": {
        "colab": {
          "base_uri": "https://localhost:8080/"
        },
        "id": "mQgZ6-nVKr4T",
        "outputId": "14487af0-b765-4341-9160-a1ded716fc7b"
      },
      "source": [
        "#@title Amount\n",
        "amount = 490 #@param {type:\"slider\", min:0, max:1000, step:1}\n",
        "model.predict({\"Radio\": amount})"
      ],
      "execution_count": 18,
      "outputs": [
        {
          "output_type": "execute_result",
          "data": {
            "text/plain": [
              "0    231.108242\n",
              "dtype: float64"
            ]
          },
          "metadata": {
            "tags": []
          },
          "execution_count": 18
        }
      ]
    },
    {
      "cell_type": "markdown",
      "metadata": {
        "id": "9EBUP2hZe2eN"
      },
      "source": [
        "Building Regression model using two Advertising fields.\n",
        "Enter any two (TV, Radio or Newspaper)\n",
        "\n",
        "Enter the amount spent too"
      ]
    },
    {
      "cell_type": "code",
      "metadata": {
        "id": "VVRODZ3NLAvm"
      },
      "source": [
        "#@title Predictors { run: \"auto\" }\n",
        "predictor1 = \"TV\" #@param {type:\"string\"}\n",
        "predictor2 = \"Radio\" #@param {type:\"string\"}\n",
        "# Build linear regression model using TV and Radio as predictors\n",
        "# Split data into predictors \n",
        "predictors = [predictor1, predictor2]\n",
        "X = adv[predictors]\n",
        "y = adv['Sales']\n",
        "\n",
        "# Initialise and fit model\n",
        "lin = LinearRegression()\n",
        "model = lin.fit(X, y)\n",
        "\n"
      ],
      "execution_count": 19,
      "outputs": []
    },
    {
      "cell_type": "code",
      "metadata": {
        "colab": {
          "base_uri": "https://localhost:8080/"
        },
        "id": "TkHqFa6biZBC",
        "outputId": "9501e012-1a01-46c7-dcae-b53eef26ee6b"
      },
      "source": [
        "#@title Enter the amount spent on advertising { run: \"auto\", vertical-output: true }\n",
        "p1_price =  400#@param {type:\"integer\"}\n",
        "p2_price =  500#@param {type:\"integer\"}\n",
        "nX = [[p1_price, p2_price]]\n",
        "print(\"Sales is: \")\n",
        "print(model.predict(nX))"
      ],
      "execution_count": 20,
      "outputs": [
        {
          "output_type": "stream",
          "text": [
            "Sales is: \n",
            "[225.06182593]\n"
          ],
          "name": "stdout"
        }
      ]
    }
  ]
}